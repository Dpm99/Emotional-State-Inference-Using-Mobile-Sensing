{
 "cells": [
  {
   "cell_type": "code",
   "execution_count": 1,
   "metadata": {},
   "outputs": [
    {
     "data": {
      "text/plain": [
       "'2.6.0'"
      ]
     },
     "execution_count": 1,
     "metadata": {},
     "output_type": "execute_result"
    }
   ],
   "source": [
    "import pandas as pd\n",
    "import math\n",
    "import datetime as dt\n",
    "import time\n",
    "import json\n",
    "import numpy as np\n",
    "import warnings\n",
    "import tqdm\n",
    "import itertools\n",
    "import matplotlib.pyplot as plt\n",
    "warnings.filterwarnings('ignore')\n",
    "\n",
    "\n",
    "from xgboost import XGBClassifier\n",
    "\n",
    "import torch\n",
    "import pytorch_tabnet\n",
    "from pytorch_tabnet.tab_model import TabNetClassifier\n",
    "\n",
    "import sklearn\n",
    "\n",
    "from sklearn.model_selection import GridSearchCV\n",
    "from sklearn.model_selection import train_test_split\n",
    "from sklearn.model_selection import StratifiedKFold\n",
    "from sklearn.preprocessing import StandardScaler\n",
    "\n",
    "import keras\n",
    "from keras.models import Sequential\n",
    "from keras.layers import Dense, Conv1D, Flatten, Dropout, MaxPooling1D, LSTM\n",
    "from keras.wrappers.scikit_learn import KerasClassifier\n",
    "from tensorflow.keras import optimizers\n",
    "\n",
    "keras.__version__"
   ]
  },
  {
   "cell_type": "code",
   "execution_count": 2,
   "metadata": {},
   "outputs": [],
   "source": [
    "from PHQ9_preprocessing import preprocessing\n",
    "df_phq9 = pd.read_csv('/home/diogo_mota/Dropbox/QMUL/MSc_Project/dataset/survey/PHQ-9.csv')"
   ]
  },
  {
   "cell_type": "code",
   "execution_count": 3,
   "metadata": {},
   "outputs": [],
   "source": [
    "def phq9_cleaner(dataframe):\n",
    "    \n",
    "    score_dict = {'Not at all':0, 'Several days':1, 'More than half the days':2, 'Nearly every day':3}\n",
    "    dataframe = dataframe.drop(['Response'], axis=1)\n",
    "    #column_list = ['uid', 'type']\n",
    "    \n",
    "    column_list = list(dataframe.columns)\n",
    "    \n",
    "    full_score = []\n",
    "    for i in range(len(dataframe)):\n",
    "        value_list = list(dataframe.iloc[i])\n",
    "        score_list = []\n",
    "        \n",
    "        for val in value_list:\n",
    "\n",
    "            if type(val)==str:\n",
    "\n",
    "                if len(val)>4:\n",
    "                    score_list.append(score_dict[val])\n",
    "                else:\n",
    "                    score_list.append(val)\n",
    "            elif math.isnan(val):\n",
    "                score_list.append(np.nan)\n",
    "        full_score.append(score_list)\n",
    "        \n",
    "    return pd.DataFrame(full_score, columns = column_list)\n",
    "\n",
    "def phq9_score(dataframe):\n",
    "    \n",
    "    final_score = []\n",
    "    user = []\n",
    "    pre_list = []\n",
    "    \n",
    "    for i in range(len(dataframe)):\n",
    "        \n",
    "        answer = list(dataframe.iloc[i])\n",
    "        answer_clean = answer[2:]\n",
    "        final_score.append(np.sum(answer_clean))\n",
    "        user.append(answer[0])\n",
    "        pre_list.append(answer[1])\n",
    "        \n",
    "    df = pd.DataFrame(zip(user, pre_list, final_score), columns = ['uid', 'type', 'PHQ9 Score'])\n",
    "    return df"
   ]
  },
  {
   "cell_type": "code",
   "execution_count": 4,
   "metadata": {},
   "outputs": [
    {
     "data": {
      "text/html": [
       "<div>\n",
       "<style scoped>\n",
       "    .dataframe tbody tr th:only-of-type {\n",
       "        vertical-align: middle;\n",
       "    }\n",
       "\n",
       "    .dataframe tbody tr th {\n",
       "        vertical-align: top;\n",
       "    }\n",
       "\n",
       "    .dataframe thead th {\n",
       "        text-align: right;\n",
       "    }\n",
       "</style>\n",
       "<table border=\"1\" class=\"dataframe\">\n",
       "  <thead>\n",
       "    <tr style=\"text-align: right;\">\n",
       "      <th></th>\n",
       "      <th>uid</th>\n",
       "      <th>type</th>\n",
       "      <th>PHQ9 Score</th>\n",
       "    </tr>\n",
       "  </thead>\n",
       "  <tbody>\n",
       "    <tr>\n",
       "      <th>46</th>\n",
       "      <td>u00</td>\n",
       "      <td>post</td>\n",
       "      <td>3</td>\n",
       "    </tr>\n",
       "    <tr>\n",
       "      <th>47</th>\n",
       "      <td>u01</td>\n",
       "      <td>post</td>\n",
       "      <td>4</td>\n",
       "    </tr>\n",
       "    <tr>\n",
       "      <th>48</th>\n",
       "      <td>u02</td>\n",
       "      <td>post</td>\n",
       "      <td>5</td>\n",
       "    </tr>\n",
       "    <tr>\n",
       "      <th>49</th>\n",
       "      <td>u03</td>\n",
       "      <td>post</td>\n",
       "      <td>4</td>\n",
       "    </tr>\n",
       "    <tr>\n",
       "      <th>50</th>\n",
       "      <td>u04</td>\n",
       "      <td>post</td>\n",
       "      <td>8</td>\n",
       "    </tr>\n",
       "    <tr>\n",
       "      <th>51</th>\n",
       "      <td>u05</td>\n",
       "      <td>post</td>\n",
       "      <td>0</td>\n",
       "    </tr>\n",
       "    <tr>\n",
       "      <th>52</th>\n",
       "      <td>u07</td>\n",
       "      <td>post</td>\n",
       "      <td>8</td>\n",
       "    </tr>\n",
       "    <tr>\n",
       "      <th>53</th>\n",
       "      <td>u09</td>\n",
       "      <td>post</td>\n",
       "      <td>2</td>\n",
       "    </tr>\n",
       "    <tr>\n",
       "      <th>54</th>\n",
       "      <td>u10</td>\n",
       "      <td>post</td>\n",
       "      <td>4</td>\n",
       "    </tr>\n",
       "    <tr>\n",
       "      <th>55</th>\n",
       "      <td>u14</td>\n",
       "      <td>post</td>\n",
       "      <td>3</td>\n",
       "    </tr>\n",
       "    <tr>\n",
       "      <th>56</th>\n",
       "      <td>u15</td>\n",
       "      <td>post</td>\n",
       "      <td>1</td>\n",
       "    </tr>\n",
       "    <tr>\n",
       "      <th>57</th>\n",
       "      <td>u16</td>\n",
       "      <td>post</td>\n",
       "      <td>12</td>\n",
       "    </tr>\n",
       "    <tr>\n",
       "      <th>58</th>\n",
       "      <td>u17</td>\n",
       "      <td>post</td>\n",
       "      <td>18</td>\n",
       "    </tr>\n",
       "    <tr>\n",
       "      <th>59</th>\n",
       "      <td>u18</td>\n",
       "      <td>post</td>\n",
       "      <td>12</td>\n",
       "    </tr>\n",
       "    <tr>\n",
       "      <th>60</th>\n",
       "      <td>u19</td>\n",
       "      <td>post</td>\n",
       "      <td>4</td>\n",
       "    </tr>\n",
       "    <tr>\n",
       "      <th>61</th>\n",
       "      <td>u20</td>\n",
       "      <td>post</td>\n",
       "      <td>8</td>\n",
       "    </tr>\n",
       "    <tr>\n",
       "      <th>62</th>\n",
       "      <td>u23</td>\n",
       "      <td>post</td>\n",
       "      <td>21</td>\n",
       "    </tr>\n",
       "    <tr>\n",
       "      <th>63</th>\n",
       "      <td>u24</td>\n",
       "      <td>post</td>\n",
       "      <td>7</td>\n",
       "    </tr>\n",
       "    <tr>\n",
       "      <th>64</th>\n",
       "      <td>u27</td>\n",
       "      <td>post</td>\n",
       "      <td>7</td>\n",
       "    </tr>\n",
       "    <tr>\n",
       "      <th>65</th>\n",
       "      <td>u30</td>\n",
       "      <td>post</td>\n",
       "      <td>0</td>\n",
       "    </tr>\n",
       "    <tr>\n",
       "      <th>66</th>\n",
       "      <td>u31</td>\n",
       "      <td>post</td>\n",
       "      <td>5</td>\n",
       "    </tr>\n",
       "    <tr>\n",
       "      <th>67</th>\n",
       "      <td>u32</td>\n",
       "      <td>post</td>\n",
       "      <td>2</td>\n",
       "    </tr>\n",
       "    <tr>\n",
       "      <th>68</th>\n",
       "      <td>u33</td>\n",
       "      <td>post</td>\n",
       "      <td>25</td>\n",
       "    </tr>\n",
       "    <tr>\n",
       "      <th>69</th>\n",
       "      <td>u34</td>\n",
       "      <td>post</td>\n",
       "      <td>6</td>\n",
       "    </tr>\n",
       "    <tr>\n",
       "      <th>70</th>\n",
       "      <td>u35</td>\n",
       "      <td>post</td>\n",
       "      <td>7</td>\n",
       "    </tr>\n",
       "    <tr>\n",
       "      <th>71</th>\n",
       "      <td>u36</td>\n",
       "      <td>post</td>\n",
       "      <td>1</td>\n",
       "    </tr>\n",
       "    <tr>\n",
       "      <th>72</th>\n",
       "      <td>u42</td>\n",
       "      <td>post</td>\n",
       "      <td>0</td>\n",
       "    </tr>\n",
       "    <tr>\n",
       "      <th>73</th>\n",
       "      <td>u43</td>\n",
       "      <td>post</td>\n",
       "      <td>4</td>\n",
       "    </tr>\n",
       "    <tr>\n",
       "      <th>74</th>\n",
       "      <td>u44</td>\n",
       "      <td>post</td>\n",
       "      <td>2</td>\n",
       "    </tr>\n",
       "    <tr>\n",
       "      <th>75</th>\n",
       "      <td>u45</td>\n",
       "      <td>post</td>\n",
       "      <td>2</td>\n",
       "    </tr>\n",
       "    <tr>\n",
       "      <th>76</th>\n",
       "      <td>u47</td>\n",
       "      <td>post</td>\n",
       "      <td>1</td>\n",
       "    </tr>\n",
       "    <tr>\n",
       "      <th>77</th>\n",
       "      <td>u49</td>\n",
       "      <td>post</td>\n",
       "      <td>8</td>\n",
       "    </tr>\n",
       "    <tr>\n",
       "      <th>78</th>\n",
       "      <td>u51</td>\n",
       "      <td>post</td>\n",
       "      <td>0</td>\n",
       "    </tr>\n",
       "    <tr>\n",
       "      <th>79</th>\n",
       "      <td>u52</td>\n",
       "      <td>post</td>\n",
       "      <td>15</td>\n",
       "    </tr>\n",
       "    <tr>\n",
       "      <th>80</th>\n",
       "      <td>u53</td>\n",
       "      <td>post</td>\n",
       "      <td>11</td>\n",
       "    </tr>\n",
       "    <tr>\n",
       "      <th>81</th>\n",
       "      <td>u56</td>\n",
       "      <td>post</td>\n",
       "      <td>3</td>\n",
       "    </tr>\n",
       "    <tr>\n",
       "      <th>82</th>\n",
       "      <td>u58</td>\n",
       "      <td>post</td>\n",
       "      <td>8</td>\n",
       "    </tr>\n",
       "    <tr>\n",
       "      <th>83</th>\n",
       "      <td>u59</td>\n",
       "      <td>post</td>\n",
       "      <td>7</td>\n",
       "    </tr>\n",
       "  </tbody>\n",
       "</table>\n",
       "</div>"
      ],
      "text/plain": [
       "    uid  type  PHQ9 Score\n",
       "46  u00  post           3\n",
       "47  u01  post           4\n",
       "48  u02  post           5\n",
       "49  u03  post           4\n",
       "50  u04  post           8\n",
       "51  u05  post           0\n",
       "52  u07  post           8\n",
       "53  u09  post           2\n",
       "54  u10  post           4\n",
       "55  u14  post           3\n",
       "56  u15  post           1\n",
       "57  u16  post          12\n",
       "58  u17  post          18\n",
       "59  u18  post          12\n",
       "60  u19  post           4\n",
       "61  u20  post           8\n",
       "62  u23  post          21\n",
       "63  u24  post           7\n",
       "64  u27  post           7\n",
       "65  u30  post           0\n",
       "66  u31  post           5\n",
       "67  u32  post           2\n",
       "68  u33  post          25\n",
       "69  u34  post           6\n",
       "70  u35  post           7\n",
       "71  u36  post           1\n",
       "72  u42  post           0\n",
       "73  u43  post           4\n",
       "74  u44  post           2\n",
       "75  u45  post           2\n",
       "76  u47  post           1\n",
       "77  u49  post           8\n",
       "78  u51  post           0\n",
       "79  u52  post          15\n",
       "80  u53  post          11\n",
       "81  u56  post           3\n",
       "82  u58  post           8\n",
       "83  u59  post           7"
      ]
     },
     "execution_count": 4,
     "metadata": {},
     "output_type": "execute_result"
    }
   ],
   "source": [
    "phq9_scores = phq9_score(phq9_cleaner(df_phq9))\n",
    "phq9_post = phq9_scores[phq9_scores.type=='post']\n",
    "phq9_post"
   ]
  },
  {
   "cell_type": "code",
   "execution_count": 5,
   "metadata": {},
   "outputs": [
    {
     "name": "stdout",
     "output_type": "stream",
     "text": [
      "u00 12\n",
      "u01 12\n",
      "u02 12\n",
      "u03 12\n",
      "u04 12\n",
      "u07 12\n",
      "u08 12\n",
      "u09 12\n",
      "u10 12\n",
      "u12 12\n",
      "u14 12\n",
      "u15 12\n",
      "u16 12\n",
      "u17 12\n",
      "u18 12\n",
      "u19 12\n",
      "u20 12\n",
      "u22 12\n",
      "u23 12\n",
      "u24 12\n",
      "u25 12\n",
      "u27 12\n",
      "u30 12\n",
      "u31 12\n",
      "u32 12\n",
      "u33 12\n",
      "u34 12\n",
      "u35 12\n",
      "u36 12\n",
      "u39 12\n",
      "u41 12\n",
      "u42 12\n",
      "u43 12\n",
      "u44 12\n",
      "u45 12\n",
      "u46 12\n",
      "u47 12\n",
      "u49 12\n",
      "u50 12\n",
      "u51 12\n",
      "u52 12\n",
      "u53 12\n",
      "u54 12\n",
      "u56 12\n",
      "u57 12\n",
      "u58 12\n",
      "u59 12\n"
     ]
    }
   ],
   "source": [
    "uid_list = ['u00', 'u01', 'u02', 'u03', 'u04', 'u07', 'u08', 'u09', 'u10', 'u12', #'u13',\n",
    "            'u14', 'u15', 'u16', 'u17',\n",
    "      'u18', 'u19', 'u20', 'u22', 'u23', 'u24', 'u25', 'u27', 'u30', 'u31', 'u32', 'u33', 'u34', 'u35', 'u36', \n",
    "      'u39', 'u41', 'u42', 'u43', 'u44', 'u45', 'u46', 'u47','u49', 'u50', 'u51', 'u52', 'u53', 'u54', 'u56', \n",
    "      'u57', 'u58' ,'u59']\n",
    "\n",
    "dataframes_list = []\n",
    "for uid in uid_list:\n",
    "    \n",
    "    feature_list = preprocessing(uid)\n",
    "    dataframes_list.append((uid, feature_list))\n",
    "    print(uid, len(feature_list))\n"
   ]
  },
  {
   "cell_type": "code",
   "execution_count": 6,
   "metadata": {},
   "outputs": [],
   "source": [
    "def df_merger(df_list, k):\n",
    "    \n",
    "    combinations = itertools.combinations(df_list, k)\n",
    "    \n",
    "    if k==2:\n",
    "        merger_list = []\n",
    "        for val in combinations:\n",
    "            pair1 = val[0]\n",
    "            pair2 = val[1]\n",
    "            merger = pd.merge(pair1, pair2, left_index=True, right_index=True)\n",
    "            merger_list.append(merger)\n",
    "\n",
    "        \n",
    "    else:\n",
    "        merger_list = []\n",
    "        for val in combinations:\n",
    "            for i in range(len(val)):\n",
    "                if i==0:\n",
    "                    final_df = val[i]\n",
    "                else:\n",
    "                    final_df = pd.merge(final_df, val[i], left_index=True, right_index=True)\n",
    "\n",
    "            merger_list.append(final_df)\n",
    "        \n",
    "    return merger_list"
   ]
  },
  {
   "cell_type": "code",
   "execution_count": 7,
   "metadata": {
    "scrolled": false
   },
   "outputs": [],
   "source": [
    "max_features = df_merger(dataframes_list[0][1], 3)"
   ]
  },
  {
   "cell_type": "code",
   "execution_count": 8,
   "metadata": {},
   "outputs": [
    {
     "data": {
      "text/plain": [
       "35"
      ]
     },
     "execution_count": 8,
     "metadata": {},
     "output_type": "execute_result"
    }
   ],
   "source": [
    "len([v for v in max_features if len(v)>50])"
   ]
  },
  {
   "cell_type": "code",
   "execution_count": 9,
   "metadata": {},
   "outputs": [
    {
     "name": "stdout",
     "output_type": "stream",
     "text": [
      "0\n",
      "1\n",
      "2\n",
      "4\n",
      "6\n",
      "10\n",
      "11\n",
      "13\n",
      "15\n",
      "19\n",
      "21\n",
      "23\n",
      "28\n",
      "30\n",
      "41\n",
      "55\n",
      "56\n",
      "58\n",
      "60\n",
      "64\n",
      "66\n",
      "68\n",
      "73\n",
      "75\n",
      "86\n",
      "100\n",
      "102\n",
      "104\n",
      "109\n",
      "111\n",
      "122\n",
      "137\n",
      "139\n",
      "150\n",
      "171\n"
     ]
    }
   ],
   "source": [
    "for i in range(len(max_features)):\n",
    "    if len(max_features[i])>50:\n",
    "        print(i)"
   ]
  },
  {
   "cell_type": "code",
   "execution_count": 10,
   "metadata": {},
   "outputs": [
    {
     "data": {
      "text/plain": [
       "Index(['Mean_Activity_inference', 'Std_Activity_inference',\n",
       "       'Median_Activity_inference', 'Min_Activity_inference',\n",
       "       'Max_Activity_inference', 'Skew_Activity_inference',\n",
       "       'Var_Activity_inference', 'Sum_Activity_inference',\n",
       "       'Mean_audio_inference', 'Std_audio_inference', 'Median_audio_inference',\n",
       "       'Min_audio_inference', 'Max_audio_inference', 'Skew_audio_inference',\n",
       "       'Var_audio_inference', 'Sum_audio_inference', 'Mean_conv_duration',\n",
       "       'Std_conv_duration', 'Median_conv_duration', 'Min_conv_duration',\n",
       "       'Max_conv_duration', 'Skew_conv_duration', 'Var_cov_duration'],\n",
       "      dtype='object')"
      ]
     },
     "execution_count": 10,
     "metadata": {},
     "output_type": "execute_result"
    }
   ],
   "source": [
    "max_features[0].columns"
   ]
  },
  {
   "cell_type": "code",
   "execution_count": 11,
   "metadata": {},
   "outputs": [],
   "source": [
    "def general_merger(dataf_list):\n",
    "    \n",
    "    final_dataset = []\n",
    "    \n",
    "    for user, df_list in dataf_list:\n",
    "\n",
    "        for i in range(len(df_list)):\n",
    "            \n",
    "            if i==0:\n",
    "                final_df = df_list[i]\n",
    "\n",
    "            elif i in [1,2]:\n",
    "                final_df = pd.merge(final_df, df_list[i], left_index=True, right_index=True)\n",
    "                \n",
    "        final_dataset.append((user, final_df))\n",
    "        \n",
    "    return final_dataset"
   ]
  },
  {
   "cell_type": "code",
   "execution_count": 12,
   "metadata": {},
   "outputs": [],
   "source": [
    "feats = general_merger(dataframes_list)\n",
    "feats_clean = [val for val in feats if len(val[1])>50]"
   ]
  },
  {
   "cell_type": "code",
   "execution_count": 13,
   "metadata": {
    "scrolled": false
   },
   "outputs": [
    {
     "name": "stdout",
     "output_type": "stream",
     "text": [
      "u00 66\n",
      "u01 55\n",
      "u02 65\n",
      "u04 58\n",
      "u08 64\n",
      "u09 66\n",
      "u10 66\n",
      "u12 67\n",
      "u14 63\n",
      "u16 58\n",
      "u17 66\n",
      "u19 60\n",
      "u23 58\n",
      "u27 64\n",
      "u30 65\n",
      "u31 63\n",
      "u32 53\n",
      "u33 53\n",
      "u35 65\n",
      "u36 59\n",
      "u41 52\n",
      "u43 56\n",
      "u44 60\n",
      "u46 54\n",
      "u47 51\n",
      "u49 52\n",
      "u51 67\n",
      "u52 66\n",
      "u53 65\n",
      "u56 59\n",
      "u57 67\n",
      "u58 53\n",
      "u59 67\n",
      "33\n"
     ]
    }
   ],
   "source": [
    "count=0\n",
    "for user, df in feats_clean:\n",
    "    print(user, len(df))\n",
    "    count+=1\n",
    "print(count)"
   ]
  },
  {
   "cell_type": "markdown",
   "metadata": {},
   "source": [
    "### Prune features "
   ]
  },
  {
   "cell_type": "code",
   "execution_count": 14,
   "metadata": {},
   "outputs": [],
   "source": [
    "final_feats = [(user, df[:50]) for user, df in feats_clean]"
   ]
  },
  {
   "cell_type": "code",
   "execution_count": 15,
   "metadata": {},
   "outputs": [
    {
     "name": "stdout",
     "output_type": "stream",
     "text": [
      "u00 50\n",
      "u01 50\n",
      "u02 50\n",
      "u04 50\n",
      "u08 50\n",
      "u09 50\n",
      "u10 50\n",
      "u12 50\n",
      "u14 50\n",
      "u16 50\n",
      "u17 50\n",
      "u19 50\n",
      "u23 50\n",
      "u27 50\n",
      "u30 50\n",
      "u31 50\n",
      "u32 50\n",
      "u33 50\n",
      "u35 50\n",
      "u36 50\n",
      "u41 50\n",
      "u43 50\n",
      "u44 50\n",
      "u46 50\n",
      "u47 50\n",
      "u49 50\n",
      "u51 50\n",
      "u52 50\n",
      "u53 50\n",
      "u56 50\n",
      "u57 50\n",
      "u58 50\n",
      "u59 50\n"
     ]
    }
   ],
   "source": [
    "for user, df in final_feats:\n",
    "    print(user, len(df))"
   ]
  },
  {
   "cell_type": "markdown",
   "metadata": {},
   "source": [
    "### Create Lists of final features:"
   ]
  },
  {
   "cell_type": "code",
   "execution_count": 16,
   "metadata": {},
   "outputs": [],
   "source": [
    "user_list = list(phq9_post['uid'])\n",
    "final_feats_clean = []\n",
    "\n",
    "for user, df in final_feats:\n",
    "    #print(user)\n",
    "    if user in user_list:\n",
    "        final_feats_clean.append((user, df))\n",
    "    else:\n",
    "        continue"
   ]
  },
  {
   "cell_type": "code",
   "execution_count": 17,
   "metadata": {},
   "outputs": [
    {
     "name": "stdout",
     "output_type": "stream",
     "text": [
      "u00 50\n",
      "u01 50\n",
      "u02 50\n",
      "u04 50\n",
      "u09 50\n",
      "u10 50\n",
      "u14 50\n",
      "u16 50\n",
      "u17 50\n",
      "u19 50\n",
      "u23 50\n",
      "u27 50\n",
      "u30 50\n",
      "u31 50\n",
      "u32 50\n",
      "u33 50\n",
      "u35 50\n",
      "u36 50\n",
      "u43 50\n",
      "u44 50\n",
      "u47 50\n",
      "u49 50\n",
      "u51 50\n",
      "u52 50\n",
      "u53 50\n",
      "u56 50\n",
      "u58 50\n",
      "u59 50\n"
     ]
    }
   ],
   "source": [
    "for user, df in final_feats_clean:\n",
    "    print(user, len(df))"
   ]
  },
  {
   "cell_type": "code",
   "execution_count": 18,
   "metadata": {},
   "outputs": [],
   "source": [
    "#fig, axs = plt.subplots(1,1, figsize=(14,10))\n",
    "\n",
    "#axs.plot(list(final_feats_clean[0][1].index), list(final_feats_clean[0][1]['Mean_Activity_inference']), \n",
    " #        linewidth=5, color='royalblue')\n",
    "\n",
    "#for axis in ['top','bottom','left','right']:\n",
    " #   axs.spines[axis].set_linewidth(4)\n",
    "    \n",
    "#axs.set_xticks(['2013-03-27', '2013-03-30', '2013-04-02', '2013-04-05', '2013-04-08', '2013-04-11', '2013-04-14',\n",
    " #      '2013-04-17', '2013-04-20', '2013-04-23', '2013-04-26', '2013-04-29', '2013-05-03', '2013-05-07'])\n",
    "    \n",
    "#axs.grid(True)\n",
    "#axs.set_ylabel('Mean Act. Inference', fontsize=60)\n",
    "#axs.xaxis.set_ticks_position('both')\n",
    "#axs.set_xlabel('Days', fontsize=60)\n",
    "#axs.yaxis.set_ticks_position('both')\n",
    "#axs.tick_params(which='both', length=20, width=4, direction=\"in\", pad=10)\n",
    "#plt.xticks(rotation=90)\n",
    "\n",
    "#axs.tick_params(labelsize=25)\n",
    "\n",
    "#plt.tight_layout()\n",
    "#fig.savefig('/home/diogo_mota/Dropbox/QMUL/MSc_Project/Time_series_example.svg', bbox_inches='tight')"
   ]
  },
  {
   "cell_type": "code",
   "execution_count": 19,
   "metadata": {
    "scrolled": false
   },
   "outputs": [],
   "source": [
    "X_list = []\n",
    "y_list = []\n",
    "\n",
    "for user, df in final_feats_clean:\n",
    "\n",
    "    feat_array = np.array([list(df[cols]) for cols in df.columns])\n",
    "\n",
    "    post_phq9 = phq9_post['PHQ9 Score'][phq9_post['uid']==user].values[0]\n",
    "\n",
    "    y_list.append(post_phq9)\n",
    "    X_list.append(feat_array)\n",
    "\n",
    "\n",
    "X = np.array(X_list)\n",
    "y = np.array(y_list)"
   ]
  },
  {
   "cell_type": "code",
   "execution_count": 20,
   "metadata": {},
   "outputs": [],
   "source": [
    "y_encoded = np.array([1 if score>=5 else 0 for score in y])"
   ]
  },
  {
   "cell_type": "code",
   "execution_count": 21,
   "metadata": {},
   "outputs": [
    {
     "data": {
      "text/plain": [
       "array([0, 0, 1, 1, 0, 0, 0, 1, 1, 0, 1, 1, 0, 1, 0, 1, 1, 0, 0, 0, 0, 1,\n",
       "       0, 1, 1, 0, 1, 1])"
      ]
     },
     "execution_count": 21,
     "metadata": {},
     "output_type": "execute_result"
    }
   ],
   "source": [
    "y_encoded"
   ]
  },
  {
   "cell_type": "code",
   "execution_count": 22,
   "metadata": {},
   "outputs": [],
   "source": [
    "scaler = StandardScaler()\n",
    "#X_norm = scaler.fit_transform(X)\n",
    "X_norm = []\n",
    "for user in X:\n",
    "    x_norm = scaler.fit_transform(user)\n",
    "    X_norm.append(x_norm)\n",
    "    \n",
    "X_norm = np.array(X_norm)"
   ]
  },
  {
   "cell_type": "code",
   "execution_count": 23,
   "metadata": {},
   "outputs": [],
   "source": [
    "#X_train, X_val, y_train, y_val = train_test_split(X_norm, y_encoded, test_size=0.2)"
   ]
  },
  {
   "cell_type": "code",
   "execution_count": 24,
   "metadata": {},
   "outputs": [],
   "source": [
    "#X_train = X_train.reshape((X_train.shape[0], X_train.shape[1], 1))\n",
    "#X_val = X_val.reshape((X_val.shape[0], X_val.shape[1], 1))\n",
    "#X_train.shape, X_val.shape, y_train.shape, y_val.shape"
   ]
  },
  {
   "cell_type": "code",
   "execution_count": 25,
   "metadata": {},
   "outputs": [],
   "source": [
    "#X_train.shape"
   ]
  },
  {
   "cell_type": "code",
   "execution_count": 26,
   "metadata": {},
   "outputs": [],
   "source": [
    "#idx = np.random.permutation(len(X_train))\n",
    "#X_train = X_train[idx]\n",
    "#y_train = y_train[idx]\n",
    "#idx"
   ]
  },
  {
   "cell_type": "code",
   "execution_count": 27,
   "metadata": {},
   "outputs": [],
   "source": [
    "num_classes = 2"
   ]
  },
  {
   "cell_type": "code",
   "execution_count": 28,
   "metadata": {
    "scrolled": true
   },
   "outputs": [],
   "source": [
    "def make_model(input_shape, filter1, filter2, filter3, kernel_size):\n",
    "    input_layer = keras.layers.Input(input_shape, name = 'Inp_layer')\n",
    "\n",
    "    conv1 = keras.layers.Conv1D(filters=filter1, kernel_size=kernel_size, padding=\"same\", \n",
    "                               name = 'first_conv')(input_layer)\n",
    "    conv1 = keras.layers.BatchNormalization(name='first_batchnorm')(conv1)\n",
    "    conv1 = keras.layers.ReLU(name = 'first_relu')(conv1)\n",
    "\n",
    "    conv2 = keras.layers.Conv1D(filters=filter2, kernel_size=kernel_size, padding=\"same\",\n",
    "                               name = 'second_conv')(conv1)\n",
    "    conv2 = keras.layers.BatchNormalization(name = 'second_batchnorm')(conv2)\n",
    "    conv2 = keras.layers.ReLU(name='second_relu')(conv2)\n",
    "\n",
    "    conv3 = keras.layers.Conv1D(filters=filter3, kernel_size=kernel_size, padding=\"same\",\n",
    "                               name='third_conv')(conv2)\n",
    "    conv3 = keras.layers.BatchNormalization(name='third_batch_norm')(conv3)\n",
    "    conv3 = keras.layers.ReLU(name='third_relu')(conv3)\n",
    "\n",
    "    gap = keras.layers.GlobalAveragePooling1D(name='glob_average')(conv3)\n",
    "\n",
    "    output_layer = keras.layers.Dense(num_classes, activation=\"softmax\", name='dense_layer')(gap)\n",
    "\n",
    "    return keras.models.Model(inputs=input_layer, outputs=output_layer)\n",
    "#keras.utils.plot_model(model, show_shapes=True, to_file = 'FCN_architecture_keras.png')"
   ]
  },
  {
   "cell_type": "code",
   "execution_count": 39,
   "metadata": {},
   "outputs": [
    {
     "name": "stdout",
     "output_type": "stream",
     "text": [
      "TRAIN: [ 6  8  9 10 11 12 13 14 15 16 17 18 19 20 21 22 23 24 25 26 27] TEST: [0 1 2 3 4 5 7]\n",
      "Epoch 00053: early stopping\n",
      "[1 0 0 1 1 1 0]\n",
      "TRAIN: [ 0  1  2  3  4  5  7 13 15 16 17 18 19 20 21 22 23 24 25 26 27] TEST: [ 6  8  9 10 11 12 14]\n",
      "Epoch 00062: early stopping\n",
      "[0 0 0 0 1 0 0]\n",
      "TRAIN: [ 0  1  2  3  4  5  6  7  8  9 10 11 12 14 20 22 23 24 25 26 27] TEST: [13 15 16 17 18 19 21]\n",
      "Epoch 00072: early stopping\n",
      "[0 0 1 0 0 0 0]\n",
      "TRAIN: [ 0  1  2  3  4  5  6  7  8  9 10 11 12 13 14 15 16 17 18 19 21] TEST: [20 22 23 24 25 26 27]\n",
      "Epoch 00076: early stopping\n",
      "[1 1 1 1 1 1 1]\n"
     ]
    }
   ],
   "source": [
    "skf = StratifiedKFold(n_splits=4)\n",
    "\n",
    "loss_per_fold = []\n",
    "acc_per_fold = []\n",
    "conf_matrix = []\n",
    "\n",
    "epochs = 100\n",
    "batch_size = 2\n",
    "\n",
    "for train_index, test_index in skf.split(X_norm, y_encoded):\n",
    "    \n",
    "        print(\"TRAIN:\", train_index, \"TEST:\", test_index)\n",
    "        X_train, X_test = X_norm[train_index], X_norm[test_index]\n",
    "        y_train, y_test = y_encoded[train_index], y_encoded[test_index]\n",
    "        \n",
    "        idx = np.random.permutation(len(X_train))\n",
    "        X_train = X_train[idx]\n",
    "        y_train = y_train[idx]\n",
    "        \n",
    "        model = make_model(input_shape=X_train.shape[1:], filter1 = 64, filter2 = 64, filter3 = 64,\n",
    "                   kernel_size = 4)\n",
    "        \n",
    "        callbacks = [\n",
    "        #keras.callbacks.ModelCheckpoint(\n",
    "         #   \"best_model.h5\", save_best_only=True, monitor=\"val_loss\"\n",
    "        #),\n",
    "        keras.callbacks.ReduceLROnPlateau(\n",
    "            monitor=\"val_loss\", factor=3e-1, patience=20, min_lr=1e-6\n",
    "        ),\n",
    "        keras.callbacks.EarlyStopping(monitor=\"val_loss\", patience=50, verbose=1)]\n",
    "        \n",
    "        model.compile(\n",
    "        optimizer=optimizers.Adam(learning_rate=1e-3),\n",
    "        loss=\"sparse_categorical_crossentropy\",\n",
    "        metrics=[\"sparse_categorical_accuracy\"])\n",
    "    \n",
    "        history = model.fit(\n",
    "        X_train,\n",
    "        y_train,\n",
    "        batch_size=batch_size,\n",
    "        epochs=epochs,\n",
    "        callbacks=callbacks,\n",
    "        validation_split=0.3,\n",
    "        verbose=0)\n",
    "        test_preds = model.predict(X_test)\n",
    "        y_test_pred = np.argmax(test_preds, axis = 1)\n",
    "        print(y_test_pred)\n",
    "        test_loss, test_acc = model.evaluate(X_test, y_test, verbose=0)\n",
    "        loss_per_fold.append(test_loss)\n",
    "        acc_per_fold.append(test_acc)\n",
    "        conf_matrix.append(sklearn.metrics.confusion_matrix(y_test, y_test_pred))"
   ]
  },
  {
   "cell_type": "code",
   "execution_count": 40,
   "metadata": {
    "scrolled": true
   },
   "outputs": [
    {
     "data": {
      "text/plain": [
       "0.5357143059372902"
      ]
     },
     "execution_count": 40,
     "metadata": {},
     "output_type": "execute_result"
    }
   ],
   "source": [
    "np.mean(acc_per_fold)"
   ]
  },
  {
   "cell_type": "code",
   "execution_count": 41,
   "metadata": {},
   "outputs": [
    {
     "data": {
      "text/plain": [
       "[array([[1, 3],\n",
       "        [2, 1]]),\n",
       " array([[4, 0],\n",
       "        [2, 1]]),\n",
       " array([[3, 0],\n",
       "        [3, 1]]),\n",
       " array([[0, 3],\n",
       "        [0, 4]])]"
      ]
     },
     "execution_count": 41,
     "metadata": {},
     "output_type": "execute_result"
    }
   ],
   "source": [
    "conf_matrix"
   ]
  },
  {
   "cell_type": "code",
   "execution_count": 72,
   "metadata": {},
   "outputs": [],
   "source": [
    "matrix1 = np.array([[4, 0],[2, 1]])\n",
    "matrix2 = np.array([[0, 4],[0, 3]])\n",
    "matrix3 = np.array([[2, 1],[3, 1]])\n",
    "matrix4 = np.array([[3, 0],[3, 1]])"
   ]
  },
  {
   "cell_type": "code",
   "execution_count": 93,
   "metadata": {},
   "outputs": [],
   "source": [
    "disp = sklearn.metrics.ConfusionMatrixDisplay(matrix4)"
   ]
  },
  {
   "cell_type": "code",
   "execution_count": 94,
   "metadata": {},
   "outputs": [
    {
     "data": {
      "image/png": "[encoded data removed]",
      "text/plain": [
       "<Figure size 216x216 with 1 Axes>"
      ]
     },
     "metadata": {
      "needs_background": "light"
     },
     "output_type": "display_data"
    }
   ],
   "source": [
    "fig, axs = plt.subplots(1,1, figsize=(3,3))\n",
    "\n",
    "for axis in ['top','bottom','left','right']:\n",
    "    axs.spines[axis].set_linewidth(2)\n",
    "     \n",
    "axs.set_ylabel('True Label', fontsize=15)\n",
    "axs.xaxis.set_ticks_position('both')\n",
    "axs.set_xlabel('Predicted Label', fontsize=15)\n",
    "axs.yaxis.set_ticks_position('both')\n",
    "axs.tick_params(which='both', length=4, width=2, direction=\"out\", pad=10)\n",
    "\n",
    "axs.tick_params(labelsize=15)\n",
    "\n",
    "plt.tight_layout()\n",
    "\n",
    "disp.plot(ax=axs, colorbar=False)\n",
    "\n",
    "\n",
    "plt.tight_layout()\n",
    "fig.savefig('/home/diogo_mota/Dropbox/QMUL/MSc_Project/Conf_matrix4.png', bbox_inches='tight')"
   ]
  },
  {
   "cell_type": "code",
   "execution_count": null,
   "metadata": {},
   "outputs": [],
   "source": []
  }
 ],
 "metadata": {
  "kernelspec": {
   "display_name": "Python 3",
   "language": "python",
   "name": "python3"
  },
  "language_info": {
   "codemirror_mode": {
    "name": "ipython",
    "version": 3
   },
   "file_extension": ".py",
   "mimetype": "text/x-python",
   "name": "python",
   "nbconvert_exporter": "python",
   "pygments_lexer": "ipython3",
   "version": "3.8.5"
  }
 },
 "nbformat": 4,
 "nbformat_minor": 4
}
